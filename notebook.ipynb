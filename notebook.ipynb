{
 "cells": [
  {
   "cell_type": "code",
   "execution_count": 2,
   "metadata": {},
   "outputs": [],
   "source": [
    "# import logging\n",
    "# import logging.config\n",
    "\n",
    "# logging.config.fileConfig(fname='logging.conf', disable_existing_loggers=False)\n",
    "# logger = logging.getLogger('pyspark')"
   ]
  },
  {
   "cell_type": "code",
   "execution_count": 1,
   "metadata": {},
   "outputs": [],
   "source": [
    "import os\n",
    "import sys\n",
    "\n",
    "# starting spark session\n",
    "os.environ['PYSPARK_PYTHON'] = sys.executable\n",
    "os.environ['PYSPARK_DRIVER_PYTHON'] = sys.executable\n",
    "\n",
    "import pyspark\n",
    "sc = pyspark.SparkContext.getOrCreate(pyspark.SparkConf().setMaster(\"local[*]\"))\n",
    "spark = pyspark.sql.SparkSession(sc)"
   ]
  },
  {
   "cell_type": "code",
   "execution_count": 2,
   "metadata": {},
   "outputs": [],
   "source": [
    "# reading the file\n",
    "staticSchema = spark.read\\\n",
    "        .option(\"inferSchema\", \"true\")\\\n",
    "        .option(\"header\",\"true\")\\\n",
    "        .option(\"escape\", \"\\\"\")\\\n",
    "        .option(\"multiLine\",\"true\")\\\n",
    "        .format(\"csv\")\\\n",
    "        .load(\"input/train.csv\")\\\n",
    "        .limit(1000)\\\n",
    "        .schema"
   ]
  },
  {
   "cell_type": "code",
   "execution_count": 34,
   "metadata": {},
   "outputs": [],
   "source": [
    "# reading the file\n",
    "df = spark.read\\\n",
    "        .schema(staticSchema)\\\n",
    "        .option(\"header\",\"true\")\\\n",
    "        .option(\"escape\", \"\\\"\")\\\n",
    "        .option(\"multiLine\",\"true\")\\\n",
    "        .format(\"csv\")\\\n",
    "        .load(\"input/train.csv\")\\\n",
    "        .persist()"
   ]
  },
  {
   "cell_type": "code",
   "execution_count": 22,
   "metadata": {},
   "outputs": [],
   "source": [
    "# repartition the data in case of the file becomes too large to handle\n",
    "df = df.repartition(5 * 4 * 2) # (executors * cores * replicationFactor)"
   ]
  },
  {
   "cell_type": "code",
   "execution_count": 35,
   "metadata": {},
   "outputs": [],
   "source": [
    "# extacting feature columns'\n",
    "cols_numbering = [(col.split('_')[-2], col.split('_')[-1]) for col in df.columns if 'feature' in col]"
   ]
  },
  {
   "cell_type": "code",
   "execution_count": 36,
   "metadata": {},
   "outputs": [],
   "source": [
    "from pyspark.sql.functions import stddev, mean, col\n",
    "from pyspark.sql import DataFrame\n",
    "def standardization(df: DataFrame, input_column: str, output_column: str) -> DataFrame:\n",
    "    df1 = df\\\n",
    "        .select(mean(f\"{input_column}\").alias(f\"mean_{input_column}\"), stddev(f\"{input_column}\").alias(f\"stddev_{input_column}\"))\\\n",
    "        .crossJoin(df)\\\n",
    "        .withColumn(f\"{output_column}\" , (col(\"feature_type_1_0\") - col(f\"mean_{input_column}\")) / col(f\"stddev_{input_column}\"))\\\n",
    "        .drop(*[f\"mean_{input_column}\",f\"stddev_{input_column}\"])\n",
    "    return df1"
   ]
  },
  {
   "cell_type": "code",
   "execution_count": 32,
   "metadata": {},
   "outputs": [],
   "source": [
    "from pyspark.sql.functions import udf, array, greatest, when, lit, expr\n",
    "from pyspark.sql.types import IntegerType\n",
    "def max_feature_value(df: DataFrame, columns: list) -> DataFrame:  \n",
    "    df2 = df\\\n",
    "      .withColumn(\"max\",greatest(*[col(x) for x in columns]))\\\n",
    "      .withColumn('max_feature_type_1_index', array(*[when(col(c) ==col('max'), lit(c)) for c in columns]))\\\n",
    "      .withColumn('max_feature_type_1_index', expr(\"filter(max_feature_type_1_index, x -> x is not null)\"))\\\n",
    "      .withColumn('max_feature_type_1_index', col(\"max_feature_type_1_index\")[0])\n",
    "    return df2"
   ]
  },
  {
   "cell_type": "code",
   "execution_count": 37,
   "metadata": {},
   "outputs": [],
   "source": [
    "for i,j in cols_numbering:\n",
    "    input_column = \"_\".join([\"feature_type\",i,j])\n",
    "    output_column = \"_\".join([\"features_type\",i,\"stand\",j])\n",
    "    df = standardization(df, input_column, output_column)"
   ]
  },
  {
   "cell_type": "code",
   "execution_count": 33,
   "metadata": {},
   "outputs": [],
   "source": [
    "input_columns = [\"_\".join([\"feature_type\",i,j]) for i,j in cols_numbering]\n",
    "df = max_feature_value(df, columns = input_columns)"
   ]
  },
  {
   "cell_type": "code",
   "execution_count": 29,
   "metadata": {},
   "outputs": [],
   "source": [
    "df.persist()\\\n",
    "    .write\\\n",
    "    .option(\"header\",True)\\\n",
    "    .mode('overwrite')\\\n",
    "    .format(\"csv\")\\\n",
    "    .save(\"output/something.csv\")"
   ]
  },
  {
   "cell_type": "code",
   "execution_count": null,
   "metadata": {},
   "outputs": [],
   "source": []
  }
 ],
 "metadata": {
  "kernelspec": {
   "display_name": "venv",
   "language": "python",
   "name": "python3"
  },
  "language_info": {
   "codemirror_mode": {
    "name": "ipython",
    "version": 3
   },
   "file_extension": ".py",
   "mimetype": "text/x-python",
   "name": "python",
   "nbconvert_exporter": "python",
   "pygments_lexer": "ipython3",
   "version": "3.10.8"
  },
  "orig_nbformat": 4
 },
 "nbformat": 4,
 "nbformat_minor": 2
}
